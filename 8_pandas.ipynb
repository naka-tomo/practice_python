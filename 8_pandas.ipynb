{
 "cells": [
  {
   "cell_type": "markdown",
   "metadata": {
    "id": "FFZ4-At3HssC"
   },
   "source": [
    "pandas(パンダス)は，`.csv`ファイルなどを使用する際に，便利な機能が多いです．  \n",
    "是非，使い方を習得しましょう．"
   ]
  },
  {
   "cell_type": "code",
   "execution_count": 1,
   "metadata": {
    "colab": {
     "base_uri": "https://localhost:8080/"
    },
    "executionInfo": {
     "elapsed": 593,
     "status": "ok",
     "timestamp": 1609995157914,
     "user": {
      "displayName": "長野匡隼",
      "photoUrl": "",
      "userId": "15635473969771913691"
     },
     "user_tz": -540
    },
    "id": "fRxLAm3xGeNa",
    "outputId": "0af36885-ecb5-4c90-e460-c393ae7a0ded"
   },
   "outputs": [
    {
     "name": "stdout",
     "output_type": "stream",
     "text": [
      "a    1\n",
      "b    2\n",
      "c    3\n",
      "d    4\n",
      "e    5\n",
      "dtype: int64\n"
     ]
    }
   ],
   "source": [
    "# sries（名前付きの数値列）の作成\n",
    "import pandas as pd\n",
    "\n",
    "s = pd.Series([1, 2, 3, 4, 5], index=[\"a\", \"b\", \"c\", \"d\", \"e\"] )\n",
    "print (s)"
   ]
  },
  {
   "cell_type": "code",
   "execution_count": 2,
   "metadata": {
    "colab": {
     "base_uri": "https://localhost:8080/"
    },
    "executionInfo": {
     "elapsed": 821,
     "status": "ok",
     "timestamp": 1609995158148,
     "user": {
      "displayName": "長野匡隼",
      "photoUrl": "",
      "userId": "15635473969771913691"
     },
     "user_tz": -540
    },
    "id": "nIFyt0CQTDL6",
    "outputId": "481c0aeb-25bc-461c-a6a9-5fecdfad3b5c"
   },
   "outputs": [
    {
     "name": "stdout",
     "output_type": "stream",
     "text": [
      "    0   1\n",
      "0  91  80\n",
      "1  50  90\n",
      "2  80  85\n"
     ]
    }
   ],
   "source": [
    "# 表（dataframe）の作成\n",
    "import pandas as pd\n",
    "import numpy as np\n",
    "\n",
    "## テストの点数\n",
    "points = [\n",
    " [91, 80],\n",
    " [50, 90],\n",
    " [80, 85]\n",
    "]\n",
    "\n",
    "df = pd.DataFrame( points )\n",
    "print (df)"
   ]
  },
  {
   "cell_type": "code",
   "execution_count": 3,
   "metadata": {
    "colab": {
     "base_uri": "https://localhost:8080/"
    },
    "executionInfo": {
     "elapsed": 1115,
     "status": "ok",
     "timestamp": 1609995158445,
     "user": {
      "displayName": "長野匡隼",
      "photoUrl": "",
      "userId": "15635473969771913691"
     },
     "user_tz": -540
    },
    "id": "wWAOdO4cIIMD",
    "outputId": "b873d27f-4b59-4a80-95fb-e2759fb9a500"
   },
   "outputs": [
    {
     "name": "stdout",
     "output_type": "stream",
     "text": [
      "        math  japanese\n",
      "taro      91        80\n",
      "jiro      50        90\n",
      "hanako    80        85\n"
     ]
    }
   ],
   "source": [
    "# 行と列に名前をつけて表（dataframe）の作成\n",
    "import pandas as pd\n",
    "import numpy as np\n",
    "\n",
    "## 名前・科目・点数のデータ\n",
    "names = ['taro', 'jiro', 'hanako']\n",
    "subjects = ['math', 'japanese']\n",
    "points = [\n",
    " [91, 80],\n",
    " [50, 90],\n",
    " [80, 85]\n",
    "]\n",
    "\n",
    "## 表を作成\n",
    "df = pd.DataFrame( points, columns=subjects, index=names )\n",
    "print (df)"
   ]
  },
  {
   "cell_type": "code",
   "execution_count": 16,
   "metadata": {
    "colab": {
     "base_uri": "https://localhost:8080/"
    },
    "executionInfo": {
     "elapsed": 1113,
     "status": "ok",
     "timestamp": 1609995158446,
     "user": {
      "displayName": "長野匡隼",
      "photoUrl": "",
      "userId": "15635473969771913691"
     },
     "user_tz": -540
    },
    "id": "JhXwVROLZ1gF",
    "outputId": "1b929924-25c0-4684-afba-b2d00737ab7d"
   },
   "outputs": [
    {
     "name": "stdout",
     "output_type": "stream",
     "text": [
      "        math  japanese\n",
      "taro      91        80\n",
      "jiro      50        90\n",
      "hanako    80        85\n",
      "        math  japanese\n",
      "taro      91        80\n",
      "jiro      50        90\n",
      "hanako    80        85\n"
     ]
    }
   ],
   "source": [
    "# 表の保存と読み込み\n",
    "\n",
    "## 名前・科目・点数のデータ\n",
    "names = ['taro', 'jiro', 'hanako']\n",
    "subjects = ['math', 'japanese']\n",
    "points = [\n",
    " [91, 80],\n",
    " [50, 90],\n",
    " [80, 85]\n",
    "]\n",
    "\n",
    "## 表を作成\n",
    "df = pd.DataFrame( points, columns=subjects, index=names )\n",
    "\n",
    "## 保存（保存したtest.csvはエクセル等で開いて編集可能）\n",
    "df.to_csv(\"test.csv\", sep=\",\")\n",
    "### 日本語有:df.to_csv(\"xxx.csv\", encoding=\"shift_jis\")\n",
    "\n",
    "## 試しにエクセルで編集してみましょう．\n",
    "\n",
    "## 読み込み（編集したファイルを確認）\n",
    "df2 = pd.read_csv('test.csv', index_col=0, header=0)\n",
    "print( df2 )\n",
    "\n",
    "## +a\n",
    "## pickleでの保存\n",
    "df.to_pickle(\"test.pkl\")\n",
    "## 読み込み\n",
    "df3 = pd.read_pickle(\"test.pkl\")\n",
    "print( df3 )"
   ]
  },
  {
   "cell_type": "code",
   "execution_count": 5,
   "metadata": {
    "colab": {
     "base_uri": "https://localhost:8080/"
    },
    "executionInfo": {
     "elapsed": 1109,
     "status": "ok",
     "timestamp": 1609995158446,
     "user": {
      "displayName": "長野匡隼",
      "photoUrl": "",
      "userId": "15635473969771913691"
     },
     "user_tz": -540
    },
    "id": "orGGo8ShIXaL",
    "outputId": "6c68b6f5-be32-4d50-e070-e0e93da477b7"
   },
   "outputs": [
    {
     "name": "stdout",
     "output_type": "stream",
     "text": [
      "--- 全員の点数の取得 ---\n",
      "[[91 80]\n",
      " [50 90]\n",
      " [80 85]]\n",
      "\n",
      "--- 列の名前の取得 ---\n",
      "Index(['math', 'japanese'], dtype='object')\n",
      "math\n",
      "\n",
      "--- 行の名前の取得 ---\n",
      "Index(['taro', 'jiro', 'hanako'], dtype='object')\n",
      "taro\n",
      "\n",
      "--- リスト化 ---\n",
      "['math', 'japanese']\n",
      "['taro', 'jiro', 'hanako']\n"
     ]
    }
   ],
   "source": [
    "# 表（dataframe）からデータの取り出し\n",
    "import pandas as pd\n",
    "import numpy as np\n",
    "\n",
    "## 名前・科目・点数のデータ\n",
    "names = ['taro', 'jiro', 'hanako']\n",
    "subjects = ['math', 'japanese']\n",
    "points = [\n",
    " [91, 80],\n",
    " [50, 90],\n",
    " [80, 85]\n",
    "]\n",
    "\n",
    "## 表を作成\n",
    "df = pd.DataFrame( points, columns=subjects, index=names )\n",
    "\n",
    "## 確認\n",
    "print(\"--- 全員の点数の取得 ---\")\n",
    "print (df.values)\n",
    "\n",
    "print()\n",
    "print( \"--- 列の名前の取得 ---\" )\n",
    "print (df.columns)\n",
    "print(df.columns[0])\n",
    "\n",
    "print()\n",
    "print(\"--- 行の名前の取得 ---\")\n",
    "print (df.index)\n",
    "print(df.index[0])\n",
    "\n",
    "print()\n",
    "print(\"--- リスト化 ---\")\n",
    "print (df.columns.to_list() )\n",
    "print (df.index.to_list() )"
   ]
  },
  {
   "cell_type": "code",
   "execution_count": 6,
   "metadata": {
    "colab": {
     "base_uri": "https://localhost:8080/"
    },
    "executionInfo": {
     "elapsed": 1106,
     "status": "ok",
     "timestamp": 1609995158446,
     "user": {
      "displayName": "長野匡隼",
      "photoUrl": "",
      "userId": "15635473969771913691"
     },
     "user_tz": -540
    },
    "id": "8DK9OXOIJ94x",
    "outputId": "778265e8-e32e-4a9c-d907-4e0167880e7d"
   },
   "outputs": [
    {
     "name": "stdout",
     "output_type": "stream",
     "text": [
      "--- 変更前 ----\n",
      "        math  japanese\n",
      "taro      91        80\n",
      "jiro      50        90\n",
      "hanako    80        85\n",
      "\n",
      "--- 変更後 ---\n",
      "        english  math\n",
      "goro         91    80\n",
      "jiro         50    90\n",
      "hanako       80    85\n"
     ]
    }
   ],
   "source": [
    "# column（科目名）やindex（人物名）の変更\n",
    "import pandas as pd\n",
    "import numpy as np\n",
    "\n",
    "## 名前・科目・点数のデータ\n",
    "names = ['taro', 'jiro', 'hanako']\n",
    "subjects = ['math', 'japanese']\n",
    "points = [\n",
    " [91, 80],\n",
    " [50, 90],\n",
    " [80, 85]\n",
    "]\n",
    "\n",
    "## 表を作成\n",
    "df = pd.DataFrame( points, columns=subjects, index=names )\n",
    "print(\"--- 変更前 ----\")\n",
    "print( df )\n",
    "print()\n",
    "\n",
    "\n",
    "## column変更\n",
    "df.columns = ['english', 'math' ]\n",
    "\n",
    "## index変更\n",
    "df.index = ['goro', 'jiro', 'hanako']\n",
    "\n",
    "print(\"--- 変更後 ---\")\n",
    "print( df )"
   ]
  },
  {
   "cell_type": "code",
   "execution_count": 7,
   "metadata": {
    "colab": {
     "base_uri": "https://localhost:8080/"
    },
    "executionInfo": {
     "elapsed": 1104,
     "status": "ok",
     "timestamp": 1609995158447,
     "user": {
      "displayName": "長野匡隼",
      "photoUrl": "",
      "userId": "15635473969771913691"
     },
     "user_tz": -540
    },
    "id": "swYsOrRZNFiI",
    "outputId": "ff1b6e90-79a1-4a86-c108-3e2732381a57"
   },
   "outputs": [
    {
     "name": "stdout",
     "output_type": "stream",
     "text": [
      "80\n",
      "80\n"
     ]
    }
   ],
   "source": [
    "# 単独の要素の選択&抽出\n",
    "import pandas as pd\n",
    "import numpy as np\n",
    "\n",
    "## 名前・科目・点数のデータ\n",
    "names = ['taro', 'jiro', 'hanako']\n",
    "subjects = ['math', 'japanese']\n",
    "points = [\n",
    " [91, 80],\n",
    " [50, 90],\n",
    " [80, 85]\n",
    "]\n",
    "\n",
    "## 表を作成\n",
    "df = pd.DataFrame( points, columns=subjects, index=names )\n",
    "\n",
    "## 行・列名で指定\n",
    "print (df.at['taro', 'japanese'])\n",
    "\n",
    "## 行・列番号で指定\n",
    "print (df.iat[0, 1])"
   ]
  },
  {
   "cell_type": "code",
   "execution_count": 8,
   "metadata": {
    "colab": {
     "base_uri": "https://localhost:8080/"
    },
    "executionInfo": {
     "elapsed": 1360,
     "status": "ok",
     "timestamp": 1609995158708,
     "user": {
      "displayName": "長野匡隼",
      "photoUrl": "",
      "userId": "15635473969771913691"
     },
     "user_tz": -540
    },
    "id": "LGs9oiwgKTDD",
    "outputId": "49b20901-6cd9-475d-85e0-d291af88589c"
   },
   "outputs": [
    {
     "name": "stdout",
     "output_type": "stream",
     "text": [
      "taro      91\n",
      "jiro      50\n",
      "hanako    80\n",
      "Name: math, dtype: int64\n",
      "taro      91\n",
      "jiro      50\n",
      "hanako    80\n",
      "Name: math, dtype: int64\n",
      "\n",
      "taro      91\n",
      "jiro      50\n",
      "hanako    80\n",
      "Name: math, dtype: int64\n",
      "math        50\n",
      "japanese    90\n",
      "Name: jiro, dtype: int64\n",
      "      math  japanese\n",
      "taro    91        80\n",
      "jiro    50        90\n",
      "      math  japanese\n",
      "taro    91        80\n",
      "jiro    50        90\n",
      "\n",
      "        math  japanese\n",
      "taro      91        80\n",
      "hanako    80        85\n",
      "\n",
      "      math  japanese\n",
      "taro    91        80\n",
      "      math  japanese\n",
      "taro    91        80\n",
      "        math  japanese\n",
      "taro      91        80\n",
      "hanako    80        85\n",
      "        math  japanese\n",
      "jiro      50        90\n",
      "hanako    80        85\n"
     ]
    }
   ],
   "source": [
    "# 複数要素の選択&抽出\n",
    "import pandas as pd\n",
    "import numpy as np\n",
    "\n",
    "## 名前・科目・点数のデータ\n",
    "names = ['taro', 'jiro', 'hanako']\n",
    "subjects = ['math', 'japanese']\n",
    "points = [\n",
    " [91, 80],\n",
    " [50, 90],\n",
    " [80, 85]\n",
    "]\n",
    "\n",
    "## 表を作成\n",
    "df = pd.DataFrame( points, columns=subjects, index=names )\n",
    "\n",
    "## 特定の列（科目名）の取得\n",
    "print( df['math'] )\n",
    "print( df.math )\n",
    "print()\n",
    "\n",
    "## columnやindexによる選択\n",
    "print( df.loc[:, 'math'] )\n",
    "print( df.loc['jiro', :] )\n",
    "print( df.loc['taro':'jiro', :] )\n",
    "print( df.loc[['taro','jiro'], ['math','japanese']] )\n",
    "print()\n",
    "\n",
    "## 行・列番号で指定\n",
    "print( df.iloc[[0, 2], [0, 1]] )\n",
    "print()\n",
    "\n",
    "## 条件により行を抽出\n",
    "print( df.query('math > 80') )\n",
    "print( df[(df['math'] > 80) & (df['japanese'] < 90)] ) #and\n",
    "print( df[(df['math'] > 80) | (df['japanese'] < 90)] ) #or \n",
    "print( df[~(df['math'] > 80)] ) #not\n",
    "\n",
    "## 他にも，任意の行や列に関してグループ化する方法で，`df.groupby`があります．"
   ]
  },
  {
   "cell_type": "code",
   "execution_count": 9,
   "metadata": {
    "colab": {
     "base_uri": "https://localhost:8080/"
    },
    "executionInfo": {
     "elapsed": 1358,
     "status": "ok",
     "timestamp": 1609995158709,
     "user": {
      "displayName": "長野匡隼",
      "photoUrl": "",
      "userId": "15635473969771913691"
     },
     "user_tz": -540
    },
    "id": "4hQGBvpSLnIp",
    "outputId": "85ec1225-9cc0-41c9-81d1-b1291b25352a"
   },
   "outputs": [
    {
     "name": "stdout",
     "output_type": "stream",
     "text": [
      "        math  japanese\n",
      "taro      91        10\n",
      "jiro      50        50\n",
      "hanako    80        90\n",
      "        math  japanese\n",
      "taro      91        10\n",
      "jiro      50        50\n",
      "hanako   100       100\n",
      "             math   japanese\n",
      "taro     0.000000  16.666667\n",
      "jiro    33.333333  50.000000\n",
      "hanako  66.666667  83.333333\n",
      "               taro       jiro     hanako\n",
      "math       0.000000  33.333333  66.666667\n",
      "japanese  16.666667  50.000000  83.333333\n"
     ]
    }
   ],
   "source": [
    "# 要素の変更\n",
    "import pandas as pd\n",
    "import numpy as np\n",
    "\n",
    "## 名前・科目・点数のデータ\n",
    "names = ['taro', 'jiro', 'hanako']\n",
    "subjects = ['math', 'japanese']\n",
    "points = [\n",
    " [91, 80],\n",
    " [50, 90],\n",
    " [80, 85]\n",
    "]\n",
    "\n",
    "## 表を作成\n",
    "df = pd.DataFrame( points, columns=subjects, index=names )\n",
    "\n",
    "## 列（特定の科目の点数）の変更\n",
    "df.loc[:, 'japanese'] = [10, 50, 90]\n",
    "print (df)\n",
    "\n",
    "## 行（特定の生徒の点数）の変更\n",
    "df.loc['hanako', :] = [100, 100]\n",
    "print (df)\n",
    "\n",
    "## 全体\n",
    "df.loc[:] = np.arange(6).reshape(3, 2) * 100/6\n",
    "print (df)\n",
    "\n",
    "## 転置\n",
    "df_t = df.T\n",
    "print (df_t)"
   ]
  },
  {
   "cell_type": "code",
   "execution_count": 10,
   "metadata": {
    "colab": {
     "base_uri": "https://localhost:8080/"
    },
    "executionInfo": {
     "elapsed": 1355,
     "status": "ok",
     "timestamp": 1609995158709,
     "user": {
      "displayName": "長野匡隼",
      "photoUrl": "",
      "userId": "15635473969771913691"
     },
     "user_tz": -540
    },
    "id": "Jir_lwamReqT",
    "outputId": "b6092541-608e-4838-ecd7-a91d1db0fda8"
   },
   "outputs": [
    {
     "name": "stdout",
     "output_type": "stream",
     "text": [
      "Empty DataFrame\n",
      "Columns: []\n",
      "Index: []\n",
      "  japanese math english sports\n",
      "0       57    6      57     29\n",
      "1       50   32      76     42\n",
      "2       12   62      89      1\n",
      "3       10   84      52     11\n",
      "        math  english  phisics\n",
      "taro     100       40       90\n",
      "jiro      60       20       85\n",
      "hanako    80       50       70\n",
      "        math  english  phisics\n",
      "taro     100     40.0      NaN\n",
      "jiro      60      NaN     85.0\n",
      "hanako    80     50.0     70.0\n"
     ]
    }
   ],
   "source": [
    "# 様々な配列からの作成\n",
    "import pandas as pd\n",
    "import numpy as np\n",
    "\n",
    "## 空配列に追加\n",
    "df = pd.DataFrame(index=[], columns=[])\n",
    "print( df )\n",
    "\n",
    "## 行を一つずつ追加\n",
    "df = pd.DataFrame(index=[], columns = ['japanese', 'math', 'english', 'sports'])\n",
    "for i in range(4):\n",
    "  tempdf = pd.Series( np.random.randint(0, 100, 4), index=df.columns )\n",
    "  df = df.append(tempdf, ignore_index=True)\n",
    "print( df )\n",
    "\n",
    "## 辞書`dict`から作成\n",
    "data = {\n",
    "    \"math\": [100, 60, 80], \n",
    "    \"english\": [40, 20, 50],\n",
    "    \"phisics\":[90, 85, 70]\n",
    "}\n",
    "df = pd.DataFrame( data, index=['taro', 'jiro', 'hanako'])\n",
    "print (df)\n",
    "\n",
    "## 要素がない箇所は欠損値で埋められる\n",
    "data = {\n",
    "    \"math\": { \"taro\":100, \"jiro\":60, \"hanako\":80}, \n",
    "    \"english\": { \"taro\":40, \"hanako\":50},\n",
    "    \"phisics\": { \"jiro\":85, \"hanako\": 70}\n",
    "}\n",
    "df = pd.DataFrame( data )\n",
    "print (df)"
   ]
  },
  {
   "cell_type": "markdown",
   "metadata": {
    "id": "UKyn-ogZYz0-"
   },
   "source": [
    "辞書を読み込めるので，`json`ファイルから読み込み可能．\n",
    "**pd.read_json()**\n",
    "\n"
   ]
  },
  {
   "cell_type": "code",
   "execution_count": 11,
   "metadata": {
    "colab": {
     "base_uri": "https://localhost:8080/"
    },
    "executionInfo": {
     "elapsed": 1630,
     "status": "ok",
     "timestamp": 1609995158987,
     "user": {
      "displayName": "長野匡隼",
      "photoUrl": "",
      "userId": "15635473969771913691"
     },
     "user_tz": -540
    },
    "id": "KgC0eSh-aEdN",
    "outputId": "64962dc3-e750-4f11-8bfa-932997fffac9"
   },
   "outputs": [
    {
     "name": "stdout",
     "output_type": "stream",
     "text": [
      "        math  japanese  programming\n",
      "taro    91.0       NaN         50.0\n",
      "jiro    50.0       NaN         40.0\n",
      "hanako   NaN       NaN          NaN\n",
      "      math  japanese  programming\n",
      "taro  91.0       NaN         50.0\n",
      "jiro  50.0       NaN         40.0\n",
      "\n",
      "        math  programming\n",
      "taro    91.0         50.0\n",
      "jiro    50.0         40.0\n",
      "hanako   NaN          NaN\n",
      "\n",
      "        math  japanese  programming\n",
      "taro      91       NaN         50.0\n",
      "jiro      50      80.0         40.0\n",
      "hanako    60       NaN          NaN\n",
      "\n",
      "      math  japanese  programming\n",
      "jiro    50      80.0         40.0\n",
      "\n",
      "        math\n",
      "taro      91\n",
      "jiro      50\n",
      "hanako    60\n",
      "\n",
      "        math  japanese  programming\n",
      "taro      91       0.0         50.0\n",
      "jiro      50      80.0         40.0\n",
      "hanako    60       0.0          0.0\n",
      "\n",
      "        math  japanese  programming\n",
      "taro      91       NaN         50.0\n",
      "jiro      50      80.0         40.0\n",
      "hanako    60       NaN          NaN\n",
      "        math  japanese  programming\n",
      "taro      91       NaN         50.0\n",
      "hanako    60       NaN          NaN\n",
      "\n"
     ]
    }
   ],
   "source": [
    "# 欠損値の扱い\n",
    "import pandas as pd\n",
    "import numpy as np\n",
    "Nan = np.nan\n",
    "\n",
    "## 名前・科目・点数のデータ\n",
    "names = ['taro', 'jiro', 'hanako']\n",
    "subjects = ['math', 'japanese', 'programming']\n",
    "points = [\n",
    " [91, Nan, 50],\n",
    " [50, Nan, 40],\n",
    " [Nan, Nan, Nan]\n",
    "]\n",
    "df = pd.DataFrame( points, columns=subjects, index=names )\n",
    "print (df)\n",
    "\n",
    "## すべてが欠損値の行を削除する\n",
    "print(df.dropna(how='all'))\n",
    "print()\n",
    "\n",
    "## すべてが欠損値の列を削除する\n",
    "print(df.dropna(how='all', axis=1))\n",
    "print()\n",
    "\n",
    "## 名前・科目・点数のデータ\n",
    "points = [\n",
    " [91, Nan, 50],\n",
    " [50, 80, 40],\n",
    " [60, Nan, Nan]\n",
    "]\n",
    "df2 = pd.DataFrame( points, columns=subjects, index=names )\n",
    "print(df2)\n",
    "print()\n",
    "\n",
    "## 欠損値が一つでも含まれる行を削除\n",
    "print(df2.dropna()) #how='any' でも良い\n",
    "print()\n",
    "\n",
    "## 欠損値が一つでも含まれる列を削除\n",
    "print(df2.dropna(axis=1))\n",
    "print()\n",
    "## 置換\n",
    "print(df2.fillna(0))\n",
    "print()\n",
    "\n",
    "## 欠損値が一つでも含まれる行・列を抽出する\n",
    "print(df2)\n",
    "print(df2[df2.isnull().any(axis=1)])\n",
    "print()\n",
    "\n",
    "###df.mean()などの演算では，NaNは除外される\n",
    "#print( df2.mean() )"
   ]
  },
  {
   "cell_type": "code",
   "execution_count": 12,
   "metadata": {
    "colab": {
     "base_uri": "https://localhost:8080/"
    },
    "executionInfo": {
     "elapsed": 1626,
     "status": "ok",
     "timestamp": 1609995158987,
     "user": {
      "displayName": "長野匡隼",
      "photoUrl": "",
      "userId": "15635473969771913691"
     },
     "user_tz": -540
    },
    "id": "_9hwXuaIURp0",
    "outputId": "8b48f4ea-3fca-46bd-811f-3480250dc974"
   },
   "outputs": [
    {
     "name": "stdout",
     "output_type": "stream",
     "text": [
      "        math  japanese  programming\n",
      "jiro      50        90          100\n",
      "hanako    80        85          100\n",
      "\n",
      "        japanese  programming\n",
      "taro          80          100\n",
      "jiro          90          100\n",
      "hanako        85          100\n",
      "\n",
      "      japanese\n",
      "jiro        90\n"
     ]
    }
   ],
   "source": [
    "# 要素や行・列の削除\n",
    "import numpy as np\n",
    "import pandas as pd\n",
    "\n",
    "## 名前・科目・点数のデータ\n",
    "names = ['taro', 'jiro', 'hanako']\n",
    "subjects = ['math', 'japanese', 'programming']\n",
    "points = [\n",
    " [91, 80, 100],\n",
    " [50, 90, 100],\n",
    " [80, 85, 100]\n",
    "]\n",
    "\n",
    "## 表を作成\n",
    "df = pd.DataFrame( points, columns=subjects, index=names )\n",
    "\n",
    "## 行削除\n",
    "print(df.drop(index='taro'))\n",
    "print()\n",
    "\n",
    "## 列の削除\n",
    "print(df.drop(columns='math'))\n",
    "print()\n",
    "\n",
    "## 複数の行と列の削除\n",
    "print(df.drop(index=['taro', 'hanako'], columns=df.columns[[0, 2]]))"
   ]
  },
  {
   "cell_type": "code",
   "execution_count": 13,
   "metadata": {
    "colab": {
     "base_uri": "https://localhost:8080/"
    },
    "executionInfo": {
     "elapsed": 605,
     "status": "ok",
     "timestamp": 1609996153827,
     "user": {
      "displayName": "長野匡隼",
      "photoUrl": "",
      "userId": "15635473969771913691"
     },
     "user_tz": -540
    },
    "id": "jRj0pfMwh9KD",
    "outputId": "21fc6405-a355-4103-95b5-21b4ae0f9e27"
   },
   "outputs": [
    {
     "name": "stdout",
     "output_type": "stream",
     "text": [
      "       grade  math  japanese  programming  chemistry\n",
      "taro       A    91        80          100         30\n",
      "jiro       B    50        90          100         30\n",
      "hanako     S    80        85          100         30\n",
      "\n",
      "       grade  math  japanese  programming  chemistry  phisics\n",
      "taro       A    91        80          100         30       40\n",
      "jiro       B    50        90          100         30       45\n",
      "hanako     S    80        85          100         30       45\n",
      "\n",
      "       grade  math  japanese  programming  chemistry  phisics  science\n",
      "taro       a    91        80          100         30       40       70\n",
      "jiro       b    50        90          100         30       45       75\n",
      "hanako     s    80        85          100         30       45       75\n",
      "\n",
      "       grade history  math  japanese  programming  chemistry  phisics  science\n",
      "taro       a       D    91        80          100         30       40       70\n",
      "jiro       b     NaN    50        90          100         30       45       75\n",
      "hanako     s       A    80        85          100         30       45       75\n",
      "\n",
      "       grade history  math  japanese  programming  chemistry  phisics  science\n",
      "taro       a       D    91        80          100         30       40       70\n",
      "jiro       b     NaN    50        90          100         30       45       75\n",
      "hanako     s       A    80        85          100         30       45       75\n",
      "goro       0       0     0         0            0          0        0        0\n",
      "\n",
      "       grade history   math  japanese  programming  chemistry  phisics  \\\n",
      "taro       a       D   91.0      80.0        100.0       30.0     40.0   \n",
      "jiro       b     NaN   50.0      90.0        100.0       30.0     45.0   \n",
      "hanako     s       A   80.0      85.0        100.0       30.0     45.0   \n",
      "goro       0       0    0.0       0.0          0.0        0.0      0.0   \n",
      "amuro    100     100  100.0     100.0        100.0      100.0    100.0   \n",
      "char     100     100  100.0     100.0        100.0      100.0    100.0   \n",
      "\n",
      "        science  \n",
      "taro       70.0  \n",
      "jiro       75.0  \n",
      "hanako     75.0  \n",
      "goro        0.0  \n",
      "amuro     100.0  \n",
      "char      100.0  \n"
     ]
    }
   ],
   "source": [
    "# 行・列の追加&結合\n",
    "import pandas as pd\n",
    "import numpy as np\n",
    "\n",
    "## 名前・科目・点数のデータ\n",
    "names = ['taro', 'jiro', 'hanako']\n",
    "subjects = ['grade', 'math', 'japanese', 'programming']\n",
    "points = [\n",
    " ['A', 91, 80, 100],\n",
    " ['B', 50, 90, 100],\n",
    " ['S', 80, 85, 100]\n",
    "]\n",
    "\n",
    "## 表を作成\n",
    "df = pd.DataFrame( points, columns=subjects, index=names )\n",
    "\n",
    "### 列(科目)\n",
    "## 列にスカラーや配列を追加\n",
    "df['chemistry'] = 30 #df.assign()でも良い(元のdataframeが変更されない)\n",
    "print(df)\n",
    "print()\n",
    "\n",
    "df['phisics'] = [40, 45, 45]\n",
    "print(df)\n",
    "print()\n",
    "\n",
    "## 各列を用いて，新たな列の作成\n",
    "df['science'] = df['phisics'] + df['chemistry']\n",
    "df['grade'] = df['grade'].str.lower() #大文字小文字の変換\n",
    "print(df)\n",
    "print()\n",
    "\n",
    "## 任意の場所に要素を追加\n",
    "df.insert(1, 'history', pd.Series(['D', 'A',], index=['taro', 'hanako']))\n",
    "print(df)\n",
    "print()\n",
    "\n",
    "### 行(名前)\n",
    "## 行の追加\n",
    "df.loc['goro'] = 0\n",
    "print(df)\n",
    "print()\n",
    "\n",
    "## データフレームを追加\n",
    "df2 = pd.DataFrame( np.ones(16).reshape(2, 8)*100, index=[ 'amuro', 'char'], columns=df.columns )\n",
    "print (df.append(df2))"
   ]
  },
  {
   "cell_type": "code",
   "execution_count": 14,
   "metadata": {
    "colab": {
     "base_uri": "https://localhost:8080/"
    },
    "executionInfo": {
     "elapsed": 1925,
     "status": "ok",
     "timestamp": 1609995159291,
     "user": {
      "displayName": "長野匡隼",
      "photoUrl": "",
      "userId": "15635473969771913691"
     },
     "user_tz": -540
    },
    "id": "th5oLc5cw65r",
    "outputId": "1aa1d35f-433b-4c43-8167-5a8a0e03e6aa"
   },
   "outputs": [
    {
     "name": "stdout",
     "output_type": "stream",
     "text": [
      "      phisics  chemistry  history  econoics\n",
      "taro       80        100       60        50\n",
      "jiro       90        100       90        40\n",
      "\n",
      "        phisics  chemistry\n",
      "taro         80        100\n",
      "jiro         90        100\n",
      "hanako       60         50\n",
      "maruko       90         40\n"
     ]
    }
   ],
   "source": [
    "# dataframeの結合\n",
    "import pandas as pd \n",
    "import numpy as np\n",
    "\n",
    "## 名前・科目・点数のデータ\n",
    "names = ['taro', 'jiro' ]\n",
    "points1 = [\n",
    " [80, 100],\n",
    " [90, 100],\n",
    "]\n",
    "\n",
    "points2 = [\n",
    " [60, 50],\n",
    " [90, 40],\n",
    "]\n",
    "\n",
    "\n",
    "df = pd.DataFrame( points1, columns=['phisics', 'chemistry'],  index=names)\n",
    "df3 = pd.DataFrame( points2, columns=['phisics', 'chemistry'],  index=[\"hanako\", \"maruko\"])\n",
    "\n",
    "## 横に結合（科目を追加）\n",
    "df2 = pd.DataFrame( points2, columns=['history', 'econoics'],  index=names)\n",
    "print(pd.concat([df, df2], axis=1))\n",
    "print()\n",
    "\n",
    "## 縦に結合（生徒を追加）\n",
    "print(pd.concat([df, df3]))"
   ]
  },
  {
   "cell_type": "markdown",
   "metadata": {
    "id": "NEzTV4PKXW9H"
   },
   "source": [
    "$[+ \\alpha]$ `df.describe()`は，DataFrameの様々な統計量を容易に確認できる便利な関数です．  "
   ]
  },
  {
   "cell_type": "code",
   "execution_count": null,
   "metadata": {},
   "outputs": [],
   "source": []
  }
 ],
 "metadata": {
  "colab": {
   "collapsed_sections": [],
   "name": "pandas_basic_ver2.ipynb",
   "provenance": [
    {
     "file_id": "1Q4c1HyIyiYmHyJbeqqd2HKzyT-HTeMGB",
     "timestamp": 1609992817357
    },
    {
     "file_id": "1_FtFuPupzHY0PunDR-Qg6W-V4O2qwKVt",
     "timestamp": 1609979670665
    }
   ]
  },
  "kernelspec": {
   "display_name": "Python 3",
   "language": "python",
   "name": "python3"
  },
  "language_info": {
   "codemirror_mode": {
    "name": "ipython",
    "version": 3
   },
   "file_extension": ".py",
   "mimetype": "text/x-python",
   "name": "python",
   "nbconvert_exporter": "python",
   "pygments_lexer": "ipython3",
   "version": "3.8.5"
  }
 },
 "nbformat": 4,
 "nbformat_minor": 1
}
