{
 "cells": [
  {
   "cell_type": "markdown",
   "metadata": {},
   "source": [
    "# 文字列"
   ]
  },
  {
   "cell_type": "code",
   "execution_count": 1,
   "metadata": {},
   "outputs": [
    {
     "name": "stdout",
     "output_type": "stream",
     "text": [
      "abcdef\n"
     ]
    }
   ],
   "source": [
    "# 文字列の連結\n",
    "a = \"abc\"\n",
    "b = \"def\"\n",
    "c = a + b\n",
    "\n",
    "print( c )"
   ]
  },
  {
   "cell_type": "code",
   "execution_count": 2,
   "metadata": {},
   "outputs": [
    {
     "name": "stdout",
     "output_type": "stream",
     "text": [
      "hello world\n"
     ]
    }
   ],
   "source": [
    "# 文字の置換\n",
    "a = \"he**o wor*d\"\n",
    "b = a.replace(\"*\", \"l\")\n",
    "\n",
    "print( b )"
   ]
  },
  {
   "cell_type": "code",
   "execution_count": 3,
   "metadata": {},
   "outputs": [
    {
     "name": "stdout",
     "output_type": "stream",
     "text": [
      "<class 'str'>\n",
      "<class 'int'>\n"
     ]
    }
   ],
   "source": [
    "# 数値を文字列，文字列を数値に変換\n",
    "a = str(100)\n",
    "b = int(a)\n",
    "\n",
    "print( type(a) )\n",
    "print( type(b) )"
   ]
  },
  {
   "cell_type": "code",
   "execution_count": 4,
   "metadata": {},
   "outputs": [
    {
     "name": "stdout",
     "output_type": "stream",
     "text": [
      "hello world\n"
     ]
    }
   ],
   "source": [
    "# 　特定の文字の削除\n",
    "a = \"h*e*l*l*o ****wor**l**d\"\n",
    "b = a.replace(\"*\", \"\")\n",
    "\n",
    "print( b )"
   ]
  },
  {
   "cell_type": "code",
   "execution_count": 5,
   "metadata": {},
   "outputs": [
    {
     "name": "stdout",
     "output_type": "stream",
     "text": [
      "['I', 'am', 'Nakatomo']\n"
     ]
    }
   ],
   "source": [
    "#  単語分割\n",
    "a = \"I am Nakatomo\"\n",
    "b = a.split(\" \")\n",
    "\n",
    "print( b )"
   ]
  },
  {
   "cell_type": "code",
   "execution_count": 6,
   "metadata": {},
   "outputs": [
    {
     "name": "stdout",
     "output_type": "stream",
     "text": [
      "I am Nakatomo\n"
     ]
    }
   ],
   "source": [
    "# リストに入っている文字列をスペース区切りで連結\n",
    "a = [ \"I\", \"am\", \"Nakatomo\" ]\n",
    "c = \" \".join(a)\n",
    "\n",
    "print( c )"
   ]
  },
  {
   "cell_type": "code",
   "execution_count": 7,
   "metadata": {},
   "outputs": [
    {
     "name": "stdout",
     "output_type": "stream",
     "text": [
      "I,am,Nakatomo\n"
     ]
    }
   ],
   "source": [
    "# リストに入っている文字列をカンマ（\",\"）区切りで連結\n",
    "a = [ \"I\", \"am\", \"Nakatomo\" ]\n",
    "c = \",\".join(a)\n",
    "\n",
    "print( c )"
   ]
  },
  {
   "cell_type": "code",
   "execution_count": 8,
   "metadata": {},
   "outputs": [
    {
     "name": "stdout",
     "output_type": "stream",
     "text": [
      "hello\n"
     ]
    }
   ],
   "source": [
    "# \"hweolrllod\"から1文字置きに文字を取り出す\n",
    "a = \"hweolrllod\"\n",
    "b = a[::2]\n",
    "\n",
    "print( b )"
   ]
  },
  {
   "cell_type": "code",
   "execution_count": 9,
   "metadata": {},
   "outputs": [
    {
     "name": "stdout",
     "output_type": "stream",
     "text": [
      "hello\n"
     ]
    }
   ],
   "source": [
    "# \"olleh\"を逆順する\n",
    "a = \"olleh\"\n",
    "b = a[::-1]\n",
    "\n",
    "print( b )"
   ]
  },
  {
   "cell_type": "code",
   "execution_count": 10,
   "metadata": {},
   "outputs": [
    {
     "name": "stdout",
     "output_type": "stream",
     "text": [
      "['No. 000', 'No. 001', 'No. 002', 'No. 003', 'No. 004', 'No. 005', 'No. 006', 'No. 007', 'No. 008', 'No. 009']\n"
     ]
    }
   ],
   "source": [
    "# 3ケタの数値文字列のリスト[\"No. 000\",\"No. 001\", ..., \"No. 010\"]を生成\n",
    "a = [\"No. %03d\" % i for i in range(11)]\n",
    "\n",
    "print( a )"
   ]
  },
  {
   "cell_type": "code",
   "execution_count": 11,
   "metadata": {},
   "outputs": [
    {
     "name": "stdout",
     "output_type": "stream",
     "text": [
      "['No. 0.000000', 'No. 0.100000', 'No. 0.200000', 'No. 0.300000', 'No. 0.400000', 'No. 0.500000', 'No. 0.600000', 'No. 0.700000', 'No. 0.800000', 'No. 0.900000']\n"
     ]
    }
   ],
   "source": [
    "# 少数の数値文字列のリスト[\"No. 0.00\",\"No. 0.01\", ..., \"No. 01.0\"]を生成\n",
    "a = [\"No. %f\" % (i/10.0) for i in range(11)]\n",
    "\n",
    "print( a )"
   ]
  },
  {
   "cell_type": "code",
   "execution_count": null,
   "metadata": {
    "collapsed": true
   },
   "outputs": [],
   "source": []
  }
 ],
 "metadata": {
  "kernelspec": {
   "display_name": "Python 3",
   "language": "python",
   "name": "python3"
  },
  "language_info": {
   "codemirror_mode": {
    "name": "ipython",
    "version": 3
   },
   "file_extension": ".py",
   "mimetype": "text/x-python",
   "name": "python",
   "nbconvert_exporter": "python",
   "pygments_lexer": "ipython3",
   "version": "3.6.2"
  }
 },
 "nbformat": 4,
 "nbformat_minor": 1
}
