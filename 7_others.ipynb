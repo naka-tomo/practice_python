{
 "cells": [
  {
   "cell_type": "markdown",
   "metadata": {},
   "source": [
    "# その他"
   ]
  },
  {
   "cell_type": "markdown",
   "metadata": {},
   "source": [
    "もし，spyder上でうまく実行できない場合は，  \n",
    "spyderの\n",
    "実行(R)>ファイルごとの設定>外部システムターミナルで実行にチェックをつけて実行してみてください. "
   ]
  },
  {
   "cell_type": "code",
   "execution_count": 2,
   "metadata": {
    "collapsed": true
   },
   "outputs": [
    {
     "data": {
      "text/plain": [
       "1"
      ]
     },
     "execution_count": 2,
     "metadata": {},
     "output_type": "execute_result"
    }
   ],
   "source": [
    "# 外部プログラムを実行\n",
    "import os\n",
    "\n",
    "os.system('\"C:/Program Files/Internet Explorer/iexplore.exe\" google.com')"
   ]
  },
  {
   "cell_type": "code",
   "execution_count": null,
   "metadata": {},
   "outputs": [],
   "source": [
    "# マルチスレッドで関数を同時に実行\n",
    "import time\n",
    "import random\n",
    "from multiprocessing import Pool\n",
    "\n",
    "def func( args ):\n",
    "    a, b = args\n",
    "    t = random.random()\n",
    "    time.sleep(t)\n",
    "    print( \"compute %d + %d\" % (a, b) )\n",
    "    return a+b\n",
    "\n",
    "if __name__ == '__main__':\n",
    "    p = Pool()\n",
    "    results = p.map( func, [(1,4), (2,9), (10,100)] )\n",
    "    print( results )\n",
    "    time.sleep(5)"
   ]
  },
  {
   "cell_type": "code",
   "execution_count": null,
   "metadata": {},
   "outputs": [],
   "source": [
    "# numbaを使って関数を高速化しなさい\n",
    "from numba import jit\n",
    "import time\n",
    "import numpy as np\n",
    "\n",
    "def calc_sum( arr ):\n",
    "    sum = 0\n",
    "    for i in range(len(arr)):\n",
    "        sum += arr[i]\n",
    "    return sum\n",
    "\n",
    "# nambaによる高速化\n",
    "@jit\n",
    "def calc_sum_jit1( arr ):\n",
    "    sum = 0\n",
    "    for i in range(len(arr)):\n",
    "        sum += arr[i]\n",
    "    return sum\n",
    "\n",
    "# nambaの型指定による高速化\n",
    "@jit('i8(i8[:])')\n",
    "def calc_sum_jit2( arr ):\n",
    "    sum = 0\n",
    "    for i in range(len(arr)):\n",
    "        sum += arr[i]\n",
    "    return sum\n",
    "\n",
    "arr = np.arange(10000000, dtype=np.int64)\n",
    "\n",
    "start = time.time()\n",
    "sum = calc_sum(arr)\n",
    "print( \"time (python): %lf sec\" %  (time.time()-start) )\n",
    "\n",
    "start = time.time()\n",
    "sum = calc_sum_jit1(arr)\n",
    "print( \"time (jit1): %lf sec\" %  (time.time()-start) )\n",
    "\n",
    "start = time.time()\n",
    "sum = calc_sum_jit2(arr)\n",
    "print( \"time (jit2): %lf sec\" %  (time.time()-start) )\n",
    "time.sleep(5)"
   ]
  },
  {
   "cell_type": "code",
   "execution_count": null,
   "metadata": {
    "collapsed": true
   },
   "outputs": [],
   "source": []
  }
 ],
 "metadata": {
  "kernelspec": {
   "display_name": "Python 3",
   "language": "python",
   "name": "python3"
  },
  "language_info": {
   "codemirror_mode": {
    "name": "ipython",
    "version": 3
   },
   "file_extension": ".py",
   "mimetype": "text/x-python",
   "name": "python",
   "nbconvert_exporter": "python",
   "pygments_lexer": "ipython3",
   "version": "3.8.5"
  }
 },
 "nbformat": 4,
 "nbformat_minor": 1
}
